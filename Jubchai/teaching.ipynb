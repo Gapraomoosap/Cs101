{
 "cells": [
  {
   "cell_type": "markdown",
   "id": "cd520bb6",
   "metadata": {},
   "source": [
    "# Variables\n"
   ]
  },
  {
   "cell_type": "code",
   "execution_count": 2,
   "id": "a5e02cc4",
   "metadata": {},
   "outputs": [],
   "source": [
    "num = 5\n",
    "num2 = 1.23\n",
    "text = \"hello\"\n",
    "z = 1j"
   ]
  },
  {
   "cell_type": "markdown",
   "id": "719bff1b",
   "metadata": {},
   "source": [
    "<h2>type เช็คว่าตัวแปรเป็น</h2>"
   ]
  },
  {
   "cell_type": "code",
   "execution_count": 3,
   "id": "64f7e2bd",
   "metadata": {},
   "outputs": [
    {
     "name": "stdout",
     "output_type": "stream",
     "text": [
      "<class 'int'>\n"
     ]
    }
   ],
   "source": [
    "print(type(num))"
   ]
  },
  {
   "cell_type": "markdown",
   "id": "e27ab970",
   "metadata": {},
   "source": [
    "<h2>Casting</h2>"
   ]
  },
  {
   "cell_type": "code",
   "execution_count": 4,
   "id": "746efa88",
   "metadata": {},
   "outputs": [],
   "source": [
    "To_int = int(num)"
   ]
  },
  {
   "cell_type": "code",
   "execution_count": 5,
   "id": "04000374",
   "metadata": {},
   "outputs": [
    {
     "name": "stdout",
     "output_type": "stream",
     "text": [
      "5\n"
     ]
    }
   ],
   "source": [
    "print(To_int)"
   ]
  },
  {
   "cell_type": "markdown",
   "id": "fd4953f7",
   "metadata": {},
   "source": [
    "<h2>Operater</h2>"
   ]
  },
  {
   "cell_type": "code",
   "execution_count": 6,
   "id": "58d4b463",
   "metadata": {},
   "outputs": [
    {
     "name": "stdout",
     "output_type": "stream",
     "text": [
      "False\n"
     ]
    }
   ],
   "source": [
    "print(1>2)"
   ]
  },
  {
   "cell_type": "code",
   "execution_count": 7,
   "id": "b6303aec",
   "metadata": {},
   "outputs": [
    {
     "name": "stdout",
     "output_type": "stream",
     "text": [
      "True\n"
     ]
    }
   ],
   "source": [
    "print(1<2)"
   ]
  },
  {
   "cell_type": "markdown",
   "id": "27372d89",
   "metadata": {},
   "source": [
    "<h2>Array</h2><br><h3>list</h3>"
   ]
  },
  {
   "cell_type": "code",
   "execution_count": 8,
   "id": "508b31d5",
   "metadata": {},
   "outputs": [],
   "source": [
    "fruit = [\"orange\",\"apple\",\"mango\"]"
   ]
  },
  {
   "cell_type": "code",
   "execution_count": 9,
   "id": "9b81d749",
   "metadata": {},
   "outputs": [
    {
     "name": "stdout",
     "output_type": "stream",
     "text": [
      "orange\n"
     ]
    }
   ],
   "source": [
    "print(fruit[0])"
   ]
  },
  {
   "cell_type": "code",
   "execution_count": 10,
   "id": "038ca1ba",
   "metadata": {},
   "outputs": [
    {
     "name": "stdout",
     "output_type": "stream",
     "text": [
      "3\n"
     ]
    }
   ],
   "source": [
    "print(len(fruit))"
   ]
  },
  {
   "cell_type": "code",
   "execution_count": 11,
   "id": "196cb9a5",
   "metadata": {},
   "outputs": [
    {
     "name": "stdout",
     "output_type": "stream",
     "text": [
      "['orange', 'apple', 'mango']\n"
     ]
    }
   ],
   "source": [
    "print(fruit)"
   ]
  },
  {
   "cell_type": "code",
   "execution_count": 13,
   "id": "ff0034a0",
   "metadata": {},
   "outputs": [],
   "source": [
    "s1 = [1,2,3]\n",
    "s2 = [4,5,6]"
   ]
  },
  {
   "cell_type": "code",
   "execution_count": 14,
   "id": "92879340",
   "metadata": {},
   "outputs": [],
   "source": [
    "s3 = s1 + s2"
   ]
  },
  {
   "cell_type": "code",
   "execution_count": 15,
   "id": "2a3bc4e6",
   "metadata": {},
   "outputs": [
    {
     "name": "stdout",
     "output_type": "stream",
     "text": [
      "[1, 2, 3, 4, 5, 6]\n"
     ]
    }
   ],
   "source": [
    "print(s3)"
   ]
  },
  {
   "cell_type": "markdown",
   "id": "a03082af",
   "metadata": {},
   "source": [
    "<h3>Tuple</h3>"
   ]
  },
  {
   "cell_type": "code",
   "execution_count": 16,
   "id": "1918f752",
   "metadata": {},
   "outputs": [],
   "source": [
    "t1 = (\"a\",\"b\",\"c\")\n",
    "t2 = (1,2,3)"
   ]
  },
  {
   "cell_type": "code",
   "execution_count": 20,
   "id": "d0942c6c",
   "metadata": {},
   "outputs": [
    {
     "name": "stdout",
     "output_type": "stream",
     "text": [
      "c\n"
     ]
    }
   ],
   "source": [
    "t3 = t1 + t2\n",
    "print(t3)"
   ]
  },
  {
   "cell_type": "markdown",
   "id": "5d047677",
   "metadata": {},
   "source": [
    "<h3>Set</h3>"
   ]
  },
  {
   "cell_type": "code",
   "execution_count": 26,
   "id": "89acb07e",
   "metadata": {},
   "outputs": [
    {
     "name": "stdout",
     "output_type": "stream",
     "text": [
      "{'banana', 'apple', 'cherry'}\n"
     ]
    }
   ],
   "source": [
    "thisset = {\"apple\",\"banana\",\"cherry\"}\n",
    "print(thisset)"
   ]
  },
  {
   "cell_type": "code",
   "execution_count": 37,
   "id": "ec8a0d0b",
   "metadata": {},
   "outputs": [],
   "source": [
    "thisset1 = {\"apple\",\"banana\",\"cherry\",\"4\"}\n",
    "thisset2 = {\"1\",\"2\",\"3\",\"4\"}"
   ]
  },
  {
   "cell_type": "code",
   "execution_count": 38,
   "id": "bc3534d8",
   "metadata": {},
   "outputs": [
    {
     "name": "stdout",
     "output_type": "stream",
     "text": [
      "{'2', '3', 'cherry', 'banana', 'apple', '1', '4'}\n"
     ]
    }
   ],
   "source": [
    "print(thisset1 | thisset2) #union"
   ]
  },
  {
   "cell_type": "code",
   "execution_count": 39,
   "id": "a37f1384",
   "metadata": {},
   "outputs": [
    {
     "name": "stdout",
     "output_type": "stream",
     "text": [
      "{'4'}\n"
     ]
    }
   ],
   "source": [
    "print(thisset1 & thisset2) #intersec"
   ]
  },
  {
   "cell_type": "code",
   "execution_count": 40,
   "id": "2acab868",
   "metadata": {},
   "outputs": [
    {
     "name": "stdout",
     "output_type": "stream",
     "text": [
      "{'banana', 'apple', 'cherry'}\n"
     ]
    }
   ],
   "source": [
    "print(thisset1 - thisset2) #difference"
   ]
  },
  {
   "cell_type": "markdown",
   "id": "594c606d",
   "metadata": {},
   "source": [
    "# Loop"
   ]
  },
  {
   "cell_type": "markdown",
   "id": "90ed57fe",
   "metadata": {},
   "source": [
    "<h3>for loop</h3>"
   ]
  },
  {
   "cell_type": "code",
   "execution_count": 1,
   "id": "fb519066",
   "metadata": {},
   "outputs": [
    {
     "name": "stdout",
     "output_type": "stream",
     "text": [
      "0\n",
      "1\n",
      "2\n",
      "3\n",
      "4\n",
      "5\n",
      "6\n",
      "7\n",
      "8\n",
      "9\n"
     ]
    }
   ],
   "source": [
    "for i in range(10):\n",
    "    print(i)"
   ]
  },
  {
   "cell_type": "code",
   "execution_count": 42,
   "id": "3684976a",
   "metadata": {},
   "outputs": [
    {
     "name": "stdout",
     "output_type": "stream",
     "text": [
      "H\n",
      "e\n",
      "l\n",
      "l\n",
      "o\n"
     ]
    }
   ],
   "source": [
    "for i in \"Hello\":\n",
    "    print(i)"
   ]
  },
  {
   "cell_type": "code",
   "execution_count": 43,
   "id": "9e9844f0",
   "metadata": {},
   "outputs": [
    {
     "name": "stdout",
     "output_type": "stream",
     "text": [
      "1\n",
      "2\n",
      "5\n",
      "6\n",
      "10\n",
      "hello\n",
      "apple\n"
     ]
    }
   ],
   "source": [
    "for i in [1,2,5,6,10,\"hello\",\"apple\"]:\n",
    "    print(i)"
   ]
  },
  {
   "cell_type": "code",
   "execution_count": 44,
   "id": "00995064",
   "metadata": {},
   "outputs": [
    {
     "name": "stdout",
     "output_type": "stream",
     "text": [
      "1\n",
      "3\n",
      "5\n",
      "7\n",
      "9\n",
      "11\n",
      "13\n",
      "15\n",
      "17\n",
      "19\n"
     ]
    }
   ],
   "source": [
    "for i in range(1,20,2):\n",
    "    print(i)"
   ]
  },
  {
   "cell_type": "code",
   "execution_count": 48,
   "id": "0942b33f",
   "metadata": {},
   "outputs": [
    {
     "name": "stdout",
     "output_type": "stream",
     "text": [
      "0\n",
      "1\n",
      "2\n",
      "3\n",
      "4\n",
      "5\n",
      "6\n",
      "7\n",
      "8\n",
      "9\n"
     ]
    }
   ],
   "source": [
    "a = 0\n",
    "while a < 10:\n",
    "    print(a)\n",
    "    a = a+1"
   ]
  },
  {
   "cell_type": "code",
   "execution_count": 51,
   "id": "08ee1ad6",
   "metadata": {},
   "outputs": [
    {
     "name": "stdout",
     "output_type": "stream",
     "text": [
      "1\n",
      "2\n",
      "3\n",
      "4\n",
      "5\n",
      "6\n",
      "7\n",
      "8\n",
      "9\n",
      "10\n"
     ]
    }
   ],
   "source": [
    "a = 0\n",
    "while True:\n",
    "    a = a+1\n",
    "    print(a)\n",
    "    if a == 10:\n",
    "        break"
   ]
  },
  {
   "cell_type": "markdown",
   "id": "3f169bfc",
   "metadata": {},
   "source": [
    "# If else"
   ]
  },
  {
   "cell_type": "code",
   "execution_count": 52,
   "id": "46dd66ef",
   "metadata": {},
   "outputs": [
    {
     "name": "stdout",
     "output_type": "stream",
     "text": [
      "a less than b\n"
     ]
    }
   ],
   "source": [
    "a = 10\n",
    "b = 20\n",
    "if b > a:\n",
    "    print(\"a less than b\")"
   ]
  },
  {
   "cell_type": "code",
   "execution_count": 55,
   "id": "bee7b9ee",
   "metadata": {},
   "outputs": [
    {
     "name": "stdout",
     "output_type": "stream",
     "text": [
      "a more than b\n"
     ]
    }
   ],
   "source": [
    "a = 10\n",
    "b = 20\n",
    "if a > b:\n",
    "    print(\"a less than b\")\n",
    "else:\n",
    "    print(\"a more than b\")"
   ]
  },
  {
   "cell_type": "code",
   "execution_count": 57,
   "id": "afdd79fd",
   "metadata": {},
   "outputs": [
    {
     "name": "stdout",
     "output_type": "stream",
     "text": [
      "a equal b\n"
     ]
    }
   ],
   "source": [
    "a = 20\n",
    "b = 20\n",
    "if b > a:\n",
    "    print(\"a less than b\")\n",
    "elif a == b:\n",
    "    print(\"a equal b\")\n",
    "else:\n",
    "    print(\"a more than b\")"
   ]
  },
  {
   "cell_type": "code",
   "execution_count": null,
   "id": "d2e7b1f8",
   "metadata": {},
   "outputs": [],
   "source": []
  }
 ],
 "metadata": {
  "kernelspec": {
   "display_name": "Python 3 (ipykernel)",
   "language": "python",
   "name": "python3"
  },
  "language_info": {
   "codemirror_mode": {
    "name": "ipython",
    "version": 3
   },
   "file_extension": ".py",
   "mimetype": "text/x-python",
   "name": "python",
   "nbconvert_exporter": "python",
   "pygments_lexer": "ipython3",
   "version": "3.11.7"
  }
 },
 "nbformat": 4,
 "nbformat_minor": 5
}
