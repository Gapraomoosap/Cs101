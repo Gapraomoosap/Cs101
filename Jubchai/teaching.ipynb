{
 "cells": [
  {
   "cell_type": "markdown",
   "id": "cd520bb6",
   "metadata": {},
   "source": [
    "# Variables\n"
   ]
  },
  {
   "cell_type": "code",
   "execution_count": 2,
   "id": "a5e02cc4",
   "metadata": {},
   "outputs": [],
   "source": [
    "num = 5\n",
    "num2 = 1.23\n",
    "text = \"hello\"\n",
    "z = 1j"
   ]
  },
  {
   "cell_type": "markdown",
   "id": "719bff1b",
   "metadata": {},
   "source": [
    "<h2>type เช็คว่าตัวแปรเป็น</h2>"
   ]
  },
  {
   "cell_type": "code",
   "execution_count": 3,
   "id": "64f7e2bd",
   "metadata": {},
   "outputs": [
    {
     "name": "stdout",
     "output_type": "stream",
     "text": [
      "<class 'int'>\n"
     ]
    }
   ],
   "source": [
    "print(type(num))"
   ]
  },
  {
   "cell_type": "markdown",
   "id": "e27ab970",
   "metadata": {},
   "source": [
    "<h2>Casting</h2>"
   ]
  },
  {
   "cell_type": "code",
   "execution_count": 4,
   "id": "746efa88",
   "metadata": {},
   "outputs": [],
   "source": [
    "To_int = int(num)"
   ]
  },
  {
   "cell_type": "code",
   "execution_count": 5,
   "id": "04000374",
   "metadata": {},
   "outputs": [
    {
     "name": "stdout",
     "output_type": "stream",
     "text": [
      "5\n"
     ]
    }
   ],
   "source": [
    "print(To_int)"
   ]
  },
  {
   "cell_type": "markdown",
   "id": "fd4953f7",
   "metadata": {},
   "source": [
    "<h2>Operater</h2>"
   ]
  },
  {
   "cell_type": "code",
   "execution_count": 6,
   "id": "58d4b463",
   "metadata": {},
   "outputs": [
    {
     "name": "stdout",
     "output_type": "stream",
     "text": [
      "False\n"
     ]
    }
   ],
   "source": [
    "print(1>2)"
   ]
  },
  {
   "cell_type": "code",
   "execution_count": 7,
   "id": "b6303aec",
   "metadata": {},
   "outputs": [
    {
     "name": "stdout",
     "output_type": "stream",
     "text": [
      "True\n"
     ]
    }
   ],
   "source": [
    "print(1<2)"
   ]
  },
  {
   "cell_type": "markdown",
   "id": "27372d89",
   "metadata": {},
   "source": [
    "<h2>Array</h2><br><h3>list</h3>"
   ]
  },
  {
   "cell_type": "code",
   "execution_count": 8,
   "id": "508b31d5",
   "metadata": {},
   "outputs": [],
   "source": [
    "fruit = [\"orange\",\"apple\",\"mango\"]"
   ]
  },
  {
   "cell_type": "code",
   "execution_count": 9,
   "id": "9b81d749",
   "metadata": {},
   "outputs": [
    {
     "name": "stdout",
     "output_type": "stream",
     "text": [
      "orange\n"
     ]
    }
   ],
   "source": [
    "print(fruit[0])"
   ]
  },
  {
   "cell_type": "code",
   "execution_count": 10,
   "id": "038ca1ba",
   "metadata": {},
   "outputs": [
    {
     "name": "stdout",
     "output_type": "stream",
     "text": [
      "3\n"
     ]
    }
   ],
   "source": [
    "print(len(fruit))"
   ]
  },
  {
   "cell_type": "code",
   "execution_count": 11,
   "id": "196cb9a5",
   "metadata": {},
   "outputs": [
    {
     "name": "stdout",
     "output_type": "stream",
     "text": [
      "['orange', 'apple', 'mango']\n"
     ]
    }
   ],
   "source": [
    "print(fruit)"
   ]
  },
  {
   "cell_type": "code",
   "execution_count": 13,
   "id": "ff0034a0",
   "metadata": {},
   "outputs": [],
   "source": [
    "s1 = [1,2,3]\n",
    "s2 = [4,5,6]"
   ]
  },
  {
   "cell_type": "code",
   "execution_count": 14,
   "id": "92879340",
   "metadata": {},
   "outputs": [],
   "source": [
    "s3 = s1 + s2"
   ]
  },
  {
   "cell_type": "code",
   "execution_count": 15,
   "id": "2a3bc4e6",
   "metadata": {},
   "outputs": [
    {
     "name": "stdout",
     "output_type": "stream",
     "text": [
      "[1, 2, 3, 4, 5, 6]\n"
     ]
    }
   ],
   "source": [
    "print(s3)"
   ]
  },
  {
   "cell_type": "markdown",
   "id": "a03082af",
   "metadata": {},
   "source": [
    "<h3>Tuple</h3>"
   ]
  },
  {
   "cell_type": "code",
   "execution_count": 16,
   "id": "1918f752",
   "metadata": {},
   "outputs": [],
   "source": [
    "t1 = (\"a\",\"b\",\"c\")\n",
    "t2 = (1,2,3)"
   ]
  },
  {
   "cell_type": "code",
   "execution_count": 20,
   "id": "d0942c6c",
   "metadata": {},
   "outputs": [
    {
     "name": "stdout",
     "output_type": "stream",
     "text": [
      "c\n"
     ]
    }
   ],
   "source": [
    "t3 = t1 + t2\n",
    "print(t3)"
   ]
  },
  {
   "cell_type": "markdown",
   "id": "5d047677",
   "metadata": {},
   "source": [
    "<h3>Set</h3>"
   ]
  },
  {
   "cell_type": "code",
   "execution_count": 26,
   "id": "89acb07e",
   "metadata": {},
   "outputs": [
    {
     "name": "stdout",
     "output_type": "stream",
     "text": [
      "{'banana', 'apple', 'cherry'}\n"
     ]
    }
   ],
   "source": [
    "thisset = {\"apple\",\"banana\",\"cherry\"}\n",
    "print(thisset)"
   ]
  },
  {
   "cell_type": "code",
   "execution_count": 37,
   "id": "ec8a0d0b",
   "metadata": {},
   "outputs": [],
   "source": [
    "thisset1 = {\"apple\",\"banana\",\"cherry\",\"4\"}\n",
    "thisset2 = {\"1\",\"2\",\"3\",\"4\"}"
   ]
  },
  {
   "cell_type": "code",
   "execution_count": 38,
   "id": "bc3534d8",
   "metadata": {},
   "outputs": [
    {
     "name": "stdout",
     "output_type": "stream",
     "text": [
      "{'2', '3', 'cherry', 'banana', 'apple', '1', '4'}\n"
     ]
    }
   ],
   "source": [
    "print(thisset1 | thisset2) #union"
   ]
  },
  {
   "cell_type": "code",
   "execution_count": 39,
   "id": "a37f1384",
   "metadata": {},
   "outputs": [
    {
     "name": "stdout",
     "output_type": "stream",
     "text": [
      "{'4'}\n"
     ]
    }
   ],
   "source": [
    "print(thisset1 & thisset2) #intersec"
   ]
  },
  {
   "cell_type": "code",
   "execution_count": 40,
   "id": "2acab868",
   "metadata": {},
   "outputs": [
    {
     "name": "stdout",
     "output_type": "stream",
     "text": [
      "{'banana', 'apple', 'cherry'}\n"
     ]
    }
   ],
   "source": [
    "print(thisset1 - thisset2) #difference"
   ]
  },
  {
   "cell_type": "markdown",
   "id": "594c606d",
   "metadata": {},
   "source": [
    "# Loop"
   ]
  },
  {
   "cell_type": "markdown",
   "id": "90ed57fe",
   "metadata": {},
   "source": [
    "<h3>for loop</h3>"
   ]
  },
  {
   "cell_type": "code",
   "execution_count": 41,
   "id": "fb519066",
   "metadata": {},
   "outputs": [
    {
     "name": "stdout",
     "output_type": "stream",
     "text": [
      "0\n",
      "1\n",
      "2\n",
      "3\n",
      "4\n",
      "5\n",
      "6\n",
      "7\n",
      "8\n",
      "9\n"
     ]
    }
   ],
   "source": [
    "for i in range(10):\n",
    "    print(i)"
   ]
  },
  {
   "cell_type": "code",
   "execution_count": 42,
   "id": "3684976a",
   "metadata": {},
   "outputs": [
    {
     "name": "stdout",
     "output_type": "stream",
     "text": [
      "H\n",
      "e\n",
      "l\n",
      "l\n",
      "o\n"
     ]
    }
   ],
   "source": [
    "for i in \"Hello\":\n",
    "    print(i)"
   ]
  },
  {
   "cell_type": "code",
   "execution_count": 43,
   "id": "9e9844f0",
   "metadata": {},
   "outputs": [
    {
     "name": "stdout",
     "output_type": "stream",
     "text": [
      "1\n",
      "2\n",
      "5\n",
      "6\n",
      "10\n",
      "hello\n",
      "apple\n"
     ]
    }
   ],
   "source": [
    "for i in [1,2,5,6,10,\"hello\",\"apple\"]:\n",
    "    print(i)"
   ]
  },
  {
   "cell_type": "code",
   "execution_count": 44,
   "id": "00995064",
   "metadata": {},
   "outputs": [
    {
     "name": "stdout",
     "output_type": "stream",
     "text": [
      "1\n",
      "3\n",
      "5\n",
      "7\n",
      "9\n",
      "11\n",
      "13\n",
      "15\n",
      "17\n",
      "19\n"
     ]
    }
   ],
   "source": [
    "for i in range(1,20,2):\n",
    "    print(i)"
   ]
  },
  {
   "cell_type": "code",
   "execution_count": 48,
   "id": "0942b33f",
   "metadata": {},
   "outputs": [
    {
     "name": "stdout",
     "output_type": "stream",
     "text": [
      "0\n",
      "1\n",
      "2\n",
      "3\n",
      "4\n",
      "5\n",
      "6\n",
      "7\n",
      "8\n",
      "9\n"
     ]
    }
   ],
   "source": [
    "a = 0\n",
    "while a < 10:\n",
    "    print(a)\n",
    "    a = a+1"
   ]
  },
  {
   "cell_type": "code",
   "execution_count": 51,
   "id": "08ee1ad6",
   "metadata": {},
   "outputs": [
    {
     "name": "stdout",
     "output_type": "stream",
     "text": [
      "1\n",
      "2\n",
      "3\n",
      "4\n",
      "5\n",
      "6\n",
      "7\n",
      "8\n",
      "9\n",
      "10\n"
     ]
    }
   ],
   "source": [
    "a = 0\n",
    "while True:\n",
    "    a = a+1\n",
    "    print(a)\n",
    "    if a == 10:\n",
    "        break"
   ]
  },
  {
   "cell_type": "markdown",
   "id": "3f169bfc",
   "metadata": {},
   "source": [
    "# If else"
   ]
  },
  {
   "cell_type": "code",
   "execution_count": 52,
   "id": "46dd66ef",
   "metadata": {},
   "outputs": [
    {
     "name": "stdout",
     "output_type": "stream",
     "text": [
      "a less than b\n"
     ]
    }
   ],
   "source": [
    "a = 10\n",
    "b = 20\n",
    "if b > a:\n",
    "    print(\"a less than b\")"
   ]
  },
  {
   "cell_type": "code",
   "execution_count": 55,
   "id": "bee7b9ee",
   "metadata": {},
   "outputs": [
    {
     "name": "stdout",
     "output_type": "stream",
     "text": [
      "a more than b\n"
     ]
    }
   ],
   "source": [
    "a = 10\n",
    "b = 20\n",
    "if a > b:\n",
    "    print(\"a less than b\")\n",
    "else:\n",
    "    print(\"a more than b\")"
   ]
  },
  {
   "cell_type": "code",
   "execution_count": 57,
   "id": "afdd79fd",
   "metadata": {},
   "outputs": [
    {
     "name": "stdout",
     "output_type": "stream",
     "text": [
      "a equal b\n"
     ]
    }
   ],
   "source": [
    "a = 20\n",
    "b = 20\n",
    "if b > a:\n",
    "    print(\"a less than b\")\n",
    "elif a == b:\n",
    "    print(\"a equal b\")\n",
    "else:\n",
    "    print(\"a more than b\")"
   ]
  },
  {
   "cell_type": "markdown",
   "id": "4e1a2b9a",
   "metadata": {},
   "source": [
    "## Function"
   ]
  },
  {
   "cell_type": "code",
   "execution_count": 1,
   "id": "0546c3dc",
   "metadata": {},
   "outputs": [
    {
     "name": "stdout",
     "output_type": "stream",
     "text": [
      "hello\n"
     ]
    }
   ],
   "source": [
    "def fun_print():\n",
    "    print(\"hello\")\n",
    "\n",
    "fun_print()"
   ]
  },
  {
   "cell_type": "code",
   "execution_count": 3,
   "id": "3f7bed7b",
   "metadata": {},
   "outputs": [
    {
     "name": "stdout",
     "output_type": "stream",
     "text": [
      "hello JJ\n"
     ]
    }
   ],
   "source": [
    "def print_name(name):\n",
    "    print(\"hello \"+name)\n",
    "\n",
    "print_name(\"JJ\")\n",
    "    "
   ]
  },
  {
   "cell_type": "code",
   "execution_count": 7,
   "id": "7ec4b710",
   "metadata": {},
   "outputs": [
    {
     "name": "stdout",
     "output_type": "stream",
     "text": [
      "hello jj\n"
     ]
    }
   ],
   "source": [
    "def print_name(name='user'):\n",
    "    print(\"hello \"+name)\n",
    "\n",
    "print_name(\"jj\")\n",
    "    "
   ]
  },
  {
   "cell_type": "code",
   "execution_count": 17,
   "id": "fe67cf36",
   "metadata": {},
   "outputs": [
    {
     "name": "stdout",
     "output_type": "stream",
     "text": [
      "hello jj 12\n",
      "hello 12 jj\n",
      "hello jj 12\n"
     ]
    }
   ],
   "source": [
    "def print_name(name,sirname):\n",
    "    print(\"hello \"+name + \" \" + sirname)\n",
    "\n",
    "print_name(\"jj\",\"12\")\n",
    "print_name(\"12\",\"jj\")\n",
    "print_name(name = 'jj',sirname = '12')"
   ]
  },
  {
   "cell_type": "code",
   "execution_count": 18,
   "id": "d5460250",
   "metadata": {},
   "outputs": [
    {
     "name": "stdout",
     "output_type": "stream",
     "text": [
      "apple\n",
      "orange\n",
      "banana\n"
     ]
    }
   ],
   "source": [
    "def my_list(fruit):\n",
    "    for x in fruit:\n",
    "        print(x)\n",
    "        \n",
    "list_fruit = [\"apple\",\"orange\",\"banana\"]\n",
    "my_list(list_fruit)"
   ]
  },
  {
   "cell_type": "markdown",
   "id": "acfa5db9",
   "metadata": {},
   "source": [
    "### Function with return"
   ]
  },
  {
   "cell_type": "code",
   "execution_count": 20,
   "id": "4e115de2",
   "metadata": {},
   "outputs": [
    {
     "name": "stdout",
     "output_type": "stream",
     "text": [
      "12.56\n"
     ]
    }
   ],
   "source": [
    "def cal(r):\n",
    "    area = 3.14*(r**2)\n",
    "    return area\n",
    "\n",
    "print(cal(2))"
   ]
  },
  {
   "cell_type": "code",
   "execution_count": 21,
   "id": "40086d22",
   "metadata": {},
   "outputs": [
    {
     "name": "stdout",
     "output_type": "stream",
     "text": [
      "12.56\n"
     ]
    }
   ],
   "source": [
    "def cal(r):\n",
    "    return 3.14*(r**2)\n",
    "\n",
    "print(cal(2))"
   ]
  },
  {
   "cell_type": "code",
   "execution_count": 22,
   "id": "9c01661e",
   "metadata": {},
   "outputs": [
    {
     "name": "stdout",
     "output_type": "stream",
     "text": [
      "6.0\n"
     ]
    }
   ],
   "source": [
    "def triangle(w,h):\n",
    "    return 0.5*w*h\n",
    "print(triangle(3,4))"
   ]
  },
  {
   "cell_type": "code",
   "execution_count": 23,
   "id": "319c289a",
   "metadata": {},
   "outputs": [
    {
     "name": "stdout",
     "output_type": "stream",
     "text": [
      "xl\n"
     ]
    }
   ],
   "source": [
    "def size(w):\n",
    "    if(w<35):\n",
    "        return 's'\n",
    "    elif(w<45):\n",
    "        return 'm'\n",
    "    else:\n",
    "        return 'xl'\n",
    "print(size(50))"
   ]
  },
  {
   "cell_type": "markdown",
   "id": "84ee97f8",
   "metadata": {},
   "source": [
    "## Function in function"
   ]
  },
  {
   "cell_type": "code",
   "execution_count": 28,
   "id": "c85609fe",
   "metadata": {},
   "outputs": [
    {
     "name": "stdout",
     "output_type": "stream",
     "text": [
      "25.12\n"
     ]
    }
   ],
   "source": [
    "def cal(r):\n",
    "    def circle(r):\n",
    "        return 2*3.14*r\n",
    "    return circle(r)\n",
    "    \n",
    "print(cal(4))"
   ]
  },
  {
   "cell_type": "code",
   "execution_count": 31,
   "id": "893c635c",
   "metadata": {},
   "outputs": [
    {
     "name": "stdout",
     "output_type": "stream",
     "text": [
      "True\n"
     ]
    }
   ],
   "source": [
    "myset = {1,1,1}\n",
    "x = all(myset)\n",
    "print(x)"
   ]
  },
  {
   "cell_type": "code",
   "execution_count": 35,
   "id": "a3dca16c",
   "metadata": {},
   "outputs": [
    {
     "name": "stdout",
     "output_type": "stream",
     "text": [
      "(3, 1)\n"
     ]
    }
   ],
   "source": [
    "print(divmod(7,2))"
   ]
  },
  {
   "cell_type": "code",
   "execution_count": 36,
   "id": "8a7744c2",
   "metadata": {},
   "outputs": [
    {
     "name": "stdout",
     "output_type": "stream",
     "text": [
      "9\n"
     ]
    }
   ],
   "source": [
    "print(pow(3,2))"
   ]
  },
  {
   "cell_type": "code",
   "execution_count": 38,
   "id": "c52dd7c1",
   "metadata": {},
   "outputs": [
    {
     "name": "stdout",
     "output_type": "stream",
     "text": [
      "15\n"
     ]
    }
   ],
   "source": [
    "a = (1,2,3,4,5)\n",
    "print(sum(a))"
   ]
  },
  {
   "cell_type": "markdown",
   "id": "b8d4b21e",
   "metadata": {},
   "source": [
    "## Global vs Local Variables\n"
   ]
  },
  {
   "cell_type": "code",
   "execution_count": 42,
   "id": "a481b923",
   "metadata": {},
   "outputs": [
    {
     "name": "stdout",
     "output_type": "stream",
     "text": [
      "x in function =  10\n",
      "x out function =  5\n"
     ]
    }
   ],
   "source": [
    "x = 5\n",
    "def myfunc():\n",
    "    x =10\n",
    "    print(\"x in function = \",x)\n",
    "myfunc()\n",
    "print(\"x out function = \",x)"
   ]
  },
  {
   "cell_type": "markdown",
   "id": "25e06cc2",
   "metadata": {},
   "source": [
    "# Input"
   ]
  },
  {
   "cell_type": "code",
   "execution_count": 43,
   "id": "0277e30f",
   "metadata": {},
   "outputs": [
    {
     "name": "stdout",
     "output_type": "stream",
     "text": [
      "123\n"
     ]
    }
   ],
   "source": [
    "myinput = int(input())"
   ]
  },
  {
   "cell_type": "code",
   "execution_count": 44,
   "id": "d3ede7c5",
   "metadata": {},
   "outputs": [
    {
     "name": "stdout",
     "output_type": "stream",
     "text": [
      "1.2\n"
     ]
    }
   ],
   "source": [
    "myinput = float(input())"
   ]
  },
  {
   "cell_type": "code",
   "execution_count": 45,
   "id": "5cbfd68f",
   "metadata": {},
   "outputs": [
    {
     "name": "stdout",
     "output_type": "stream",
     "text": [
      "asdf\n"
     ]
    }
   ],
   "source": [
    "myinput = str(input())"
   ]
  },
  {
   "cell_type": "code",
   "execution_count": 48,
   "id": "2cff51e3",
   "metadata": {},
   "outputs": [
    {
     "name": "stdout",
     "output_type": "stream",
     "text": [
      "12.4\n"
     ]
    }
   ],
   "source": [
    "myinput = eval(input())"
   ]
  },
  {
   "cell_type": "code",
   "execution_count": 56,
   "id": "bf835b74",
   "metadata": {},
   "outputs": [
    {
     "name": "stdout",
     "output_type": "stream",
     "text": [
      "1 3 5\n",
      "1\n",
      "3\n",
      "5\n"
     ]
    }
   ],
   "source": [
    "x,y,z = input().split()\n",
    "print(x)\n",
    "print(y)\n",
    "print(z)"
   ]
  },
  {
   "cell_type": "code",
   "execution_count": 58,
   "id": "ddae636a",
   "metadata": {},
   "outputs": [
    {
     "name": "stdout",
     "output_type": "stream",
     "text": [
      "What is your name : John\n",
      "hello  John\n"
     ]
    }
   ],
   "source": [
    "name = str(input(\"What is your name : \"))\n",
    "print(\"hello \",name)"
   ]
  },
  {
   "cell_type": "markdown",
   "id": "ac16bffb",
   "metadata": {},
   "source": [
    "### output format"
   ]
  },
  {
   "cell_type": "code",
   "execution_count": 59,
   "id": "36f1c9e1",
   "metadata": {},
   "outputs": [
    {
     "name": "stdout",
     "output_type": "stream",
     "text": [
      "I am 18\n"
     ]
    }
   ],
   "source": [
    "x = 18\n",
    "my_age = \"I am {}\"\n",
    "print(my_age.format(x))"
   ]
  },
  {
   "cell_type": "code",
   "execution_count": 75,
   "id": "09d068f5",
   "metadata": {},
   "outputs": [
    {
     "name": "stdout",
     "output_type": "stream",
     "text": [
      "price :    15.35\n",
      "price :      142\n"
     ]
    }
   ],
   "source": [
    "x = 15.3456\n",
    "y = 142.413\n",
    "print(\"price : %8.2f\"%(x))\n",
    "print(\"price : %8d\"%(y))"
   ]
  },
  {
   "cell_type": "code",
   "execution_count": 79,
   "id": "8252b0f0",
   "metadata": {},
   "outputs": [
    {
     "name": "stdout",
     "output_type": "stream",
     "text": [
      "price : 15.35\n"
     ]
    }
   ],
   "source": [
    "print(\"price : {:.2f}\".format(x))"
   ]
  },
  {
   "cell_type": "markdown",
   "id": "b131a846",
   "metadata": {},
   "source": [
    "## File handling"
   ]
  },
  {
   "cell_type": "code",
   "execution_count": 81,
   "id": "277f6af7",
   "metadata": {},
   "outputs": [
    {
     "name": "stdout",
     "output_type": "stream",
     "text": [
      "Hello world\n"
     ]
    }
   ],
   "source": [
    "f = open('hello.txt',\"r\")\n",
    "print(f.read())\n",
    "f.close()"
   ]
  },
  {
   "cell_type": "code",
   "execution_count": 82,
   "id": "b0f1c436",
   "metadata": {},
   "outputs": [],
   "source": [
    "f = open('hello.txt','a')\n",
    "f.write(\"Now the file has more content!\")\n",
    "f.close()"
   ]
  },
  {
   "cell_type": "code",
   "execution_count": 83,
   "id": "5fa2bfa2",
   "metadata": {},
   "outputs": [
    {
     "name": "stdout",
     "output_type": "stream",
     "text": [
      "Hello worldNow the file has more content!\n"
     ]
    }
   ],
   "source": [
    "f = open('hello.txt',\"r\")\n",
    "print(f.read())\n",
    "f.close()"
   ]
  },
  {
   "cell_type": "code",
   "execution_count": 84,
   "id": "8d0429ed",
   "metadata": {},
   "outputs": [],
   "source": [
    "f = open('hello.txt','w')\n",
    "f.write('Old content is gone')\n",
    "f.close()"
   ]
  },
  {
   "cell_type": "code",
   "execution_count": 85,
   "id": "6c9ca7e0",
   "metadata": {},
   "outputs": [
    {
     "name": "stdout",
     "output_type": "stream",
     "text": [
      "Old content is gone\n"
     ]
    }
   ],
   "source": [
    "f = open('hello.txt',\"r\")\n",
    "print(f.read())\n",
    "f.close()"
   ]
  },
  {
   "cell_type": "code",
   "execution_count": 88,
   "id": "2bd2756d",
   "metadata": {},
   "outputs": [],
   "source": [
    "f = open('Doc1.txt','w')"
   ]
  },
  {
   "cell_type": "markdown",
   "id": "4ae4b8e5",
   "metadata": {},
   "source": [
    "## try except"
   ]
  },
  {
   "cell_type": "code",
   "execution_count": 92,
   "id": "35a731c3",
   "metadata": {},
   "outputs": [
    {
     "name": "stdout",
     "output_type": "stream",
     "text": [
      "error\n"
     ]
    }
   ],
   "source": [
    "try:\n",
    "    print(3/0)\n",
    "except:\n",
    "    print(\"error\")"
   ]
  },
  {
   "cell_type": "code",
   "execution_count": 96,
   "id": "ef5d31a5",
   "metadata": {},
   "outputs": [
    {
     "name": "stdout",
     "output_type": "stream",
     "text": [
      "3.0\n",
      "try except is finished\n"
     ]
    }
   ],
   "source": [
    "try:\n",
    "    print(3/1)\n",
    "    \n",
    "except ZeroDivisionError:\n",
    "    print(\"error\")\n",
    "finally:\n",
    "    print(\"try except is finished\")"
   ]
  },
  {
   "cell_type": "code",
   "execution_count": 98,
   "id": "b45a65bd",
   "metadata": {},
   "outputs": [
    {
     "data": {
      "image/png": "[encoded data removed]",
      "text/plain": [
       "<Figure size 640x480 with 1 Axes>"
      ]
     },
     "metadata": {},
     "output_type": "display_data"
    }
   ],
   "source": [
    "import matplotlib.pyplot as plt\n",
    "import numpy as np\n",
    "\n",
    "xpoints = np.array([0, 6])\n",
    "ypoints = np.array([0, 250])\n",
    "\n",
    "plt.plot(xpoints, ypoints)\n",
    "plt.show()"
   ]
  },
  {
   "cell_type": "markdown",
   "id": "a78538a4",
   "metadata": {},
   "source": [
    "## Numpy"
   ]
  },
  {
   "cell_type": "code",
   "execution_count": 99,
   "id": "9f206b86",
   "metadata": {},
   "outputs": [],
   "source": [
    "import numpy as np"
   ]
  },
  {
   "cell_type": "code",
   "execution_count": 100,
   "id": "56c0390e",
   "metadata": {},
   "outputs": [
    {
     "name": "stdout",
     "output_type": "stream",
     "text": [
      "[1 2 3 4 5]\n"
     ]
    }
   ],
   "source": [
    "arr = np.array([1,2,3,4,5])\n",
    "print(arr)"
   ]
  },
  {
   "cell_type": "code",
   "execution_count": 101,
   "id": "883fa0df",
   "metadata": {},
   "outputs": [
    {
     "name": "stdout",
     "output_type": "stream",
     "text": [
      "1\n"
     ]
    }
   ],
   "source": [
    "print(arr[0])"
   ]
  },
  {
   "cell_type": "code",
   "execution_count": 102,
   "id": "e2f2169a",
   "metadata": {},
   "outputs": [
    {
     "name": "stdout",
     "output_type": "stream",
     "text": [
      "int32\n"
     ]
    }
   ],
   "source": [
    "print(arr.dtype)"
   ]
  },
  {
   "cell_type": "code",
   "execution_count": null,
   "id": "ee1e7814",
   "metadata": {},
   "outputs": [],
   "source": []
  }
 ],
 "metadata": {
  "kernelspec": {
   "display_name": "Python 3 (ipykernel)",
   "language": "python",
   "name": "python3"
  },
  "language_info": {
   "codemirror_mode": {
    "name": "ipython",
    "version": 3
   },
   "file_extension": ".py",
   "mimetype": "text/x-python",
   "name": "python",
   "nbconvert_exporter": "python",
   "pygments_lexer": "ipython3",
   "version": "3.11.7"
  }
 },
 "nbformat": 4,
 "nbformat_minor": 5
}
